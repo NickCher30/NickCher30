{
 "cells": [
  {
   "cell_type": "markdown",
   "metadata": {},
   "source": [
    "# Pandas - работа с таблицами\n",
    "\n",
    "## Открытие файлов\n",
    "\n",
    "Наиболее популярный способ хранения таблиц - CSV - Comma Separated Values - значения, разделённые запятыми.\n",
    "\n",
    "Рассмотрим файл `births1880.csv`:"
   ]
  },
  {
   "cell_type": "code",
   "execution_count": 2,
   "metadata": {},
   "outputs": [
    {
     "name": "stdout",
     "output_type": "stream",
     "text": [
      "Bob,968\n",
      "Jessica,155\n",
      "Mary,77\n",
      "John,578\n",
      "Mel,973\n"
     ]
    }
   ],
   "source": [
    "filename = \"births1880.csv\"\n",
    "input_file = open(filename)\n",
    "for line in input_file:\n",
    "    print(line, end='')\n",
    "input_file.close()"
   ]
  },
  {
   "cell_type": "markdown",
   "metadata": {},
   "source": [
    "Он содержит имена и количества детей, родившихся с таким именем в 1880 году.\n",
    "\n",
    "Применим библиотеку `pandas`, чтобы открыть его сразу в удобном формате:"
   ]
  },
  {
   "cell_type": "code",
   "execution_count": 3,
   "metadata": {},
   "outputs": [
    {
     "data": {
      "text/html": [
       "<div>\n",
       "<style scoped>\n",
       "    .dataframe tbody tr th:only-of-type {\n",
       "        vertical-align: middle;\n",
       "    }\n",
       "\n",
       "    .dataframe tbody tr th {\n",
       "        vertical-align: top;\n",
       "    }\n",
       "\n",
       "    .dataframe thead th {\n",
       "        text-align: right;\n",
       "    }\n",
       "</style>\n",
       "<table border=\"1\" class=\"dataframe\">\n",
       "  <thead>\n",
       "    <tr style=\"text-align: right;\">\n",
       "      <th></th>\n",
       "      <th>Bob</th>\n",
       "      <th>968</th>\n",
       "    </tr>\n",
       "  </thead>\n",
       "  <tbody>\n",
       "    <tr>\n",
       "      <th>0</th>\n",
       "      <td>Jessica</td>\n",
       "      <td>155</td>\n",
       "    </tr>\n",
       "    <tr>\n",
       "      <th>1</th>\n",
       "      <td>Mary</td>\n",
       "      <td>77</td>\n",
       "    </tr>\n",
       "    <tr>\n",
       "      <th>2</th>\n",
       "      <td>John</td>\n",
       "      <td>578</td>\n",
       "    </tr>\n",
       "    <tr>\n",
       "      <th>3</th>\n",
       "      <td>Mel</td>\n",
       "      <td>973</td>\n",
       "    </tr>\n",
       "  </tbody>\n",
       "</table>\n",
       "</div>"
      ],
      "text/plain": [
       "       Bob  968\n",
       "0  Jessica  155\n",
       "1     Mary   77\n",
       "2     John  578\n",
       "3      Mel  973"
      ]
     },
     "execution_count": 3,
     "metadata": {},
     "output_type": "execute_result"
    }
   ],
   "source": [
    "import pandas as pd\n",
    "df = pd.read_csv(filename)\n",
    "df"
   ]
  },
  {
   "cell_type": "markdown",
   "metadata": {},
   "source": [
    "Функция приняла первую строку за заголовочную. Чтобы этого не произошло, определим аргумент `header`:"
   ]
  },
  {
   "cell_type": "code",
   "execution_count": 4,
   "metadata": {},
   "outputs": [
    {
     "data": {
      "text/html": [
       "<div>\n",
       "<style scoped>\n",
       "    .dataframe tbody tr th:only-of-type {\n",
       "        vertical-align: middle;\n",
       "    }\n",
       "\n",
       "    .dataframe tbody tr th {\n",
       "        vertical-align: top;\n",
       "    }\n",
       "\n",
       "    .dataframe thead th {\n",
       "        text-align: right;\n",
       "    }\n",
       "</style>\n",
       "<table border=\"1\" class=\"dataframe\">\n",
       "  <thead>\n",
       "    <tr style=\"text-align: right;\">\n",
       "      <th></th>\n",
       "      <th>0</th>\n",
       "      <th>1</th>\n",
       "    </tr>\n",
       "  </thead>\n",
       "  <tbody>\n",
       "    <tr>\n",
       "      <th>0</th>\n",
       "      <td>Bob</td>\n",
       "      <td>968</td>\n",
       "    </tr>\n",
       "    <tr>\n",
       "      <th>1</th>\n",
       "      <td>Jessica</td>\n",
       "      <td>155</td>\n",
       "    </tr>\n",
       "    <tr>\n",
       "      <th>2</th>\n",
       "      <td>Mary</td>\n",
       "      <td>77</td>\n",
       "    </tr>\n",
       "    <tr>\n",
       "      <th>3</th>\n",
       "      <td>John</td>\n",
       "      <td>578</td>\n",
       "    </tr>\n",
       "    <tr>\n",
       "      <th>4</th>\n",
       "      <td>Mel</td>\n",
       "      <td>973</td>\n",
       "    </tr>\n",
       "  </tbody>\n",
       "</table>\n",
       "</div>"
      ],
      "text/plain": [
       "         0    1\n",
       "0      Bob  968\n",
       "1  Jessica  155\n",
       "2     Mary   77\n",
       "3     John  578\n",
       "4      Mel  973"
      ]
     },
     "execution_count": 4,
     "metadata": {},
     "output_type": "execute_result"
    }
   ],
   "source": [
    "df = pd.read_csv(filename, header=None)\n",
    "df"
   ]
  },
  {
   "cell_type": "markdown",
   "metadata": {},
   "source": [
    "Можно сразу дать колонкам \"говорящие\" имена:"
   ]
  },
  {
   "cell_type": "code",
   "execution_count": 5,
   "metadata": {},
   "outputs": [
    {
     "data": {
      "text/html": [
       "<div>\n",
       "<style scoped>\n",
       "    .dataframe tbody tr th:only-of-type {\n",
       "        vertical-align: middle;\n",
       "    }\n",
       "\n",
       "    .dataframe tbody tr th {\n",
       "        vertical-align: top;\n",
       "    }\n",
       "\n",
       "    .dataframe thead th {\n",
       "        text-align: right;\n",
       "    }\n",
       "</style>\n",
       "<table border=\"1\" class=\"dataframe\">\n",
       "  <thead>\n",
       "    <tr style=\"text-align: right;\">\n",
       "      <th></th>\n",
       "      <th>Names</th>\n",
       "      <th>Births</th>\n",
       "    </tr>\n",
       "  </thead>\n",
       "  <tbody>\n",
       "    <tr>\n",
       "      <th>0</th>\n",
       "      <td>Bob</td>\n",
       "      <td>968</td>\n",
       "    </tr>\n",
       "    <tr>\n",
       "      <th>1</th>\n",
       "      <td>Jessica</td>\n",
       "      <td>155</td>\n",
       "    </tr>\n",
       "    <tr>\n",
       "      <th>2</th>\n",
       "      <td>Mary</td>\n",
       "      <td>77</td>\n",
       "    </tr>\n",
       "    <tr>\n",
       "      <th>3</th>\n",
       "      <td>John</td>\n",
       "      <td>578</td>\n",
       "    </tr>\n",
       "    <tr>\n",
       "      <th>4</th>\n",
       "      <td>Mel</td>\n",
       "      <td>973</td>\n",
       "    </tr>\n",
       "  </tbody>\n",
       "</table>\n",
       "</div>"
      ],
      "text/plain": [
       "     Names  Births\n",
       "0      Bob     968\n",
       "1  Jessica     155\n",
       "2     Mary      77\n",
       "3     John     578\n",
       "4      Mel     973"
      ]
     },
     "execution_count": 5,
     "metadata": {},
     "output_type": "execute_result"
    }
   ],
   "source": [
    "df = pd.read_csv(filename, names=['Names', 'Births'])\n",
    "df"
   ]
  },
  {
   "cell_type": "markdown",
   "metadata": {},
   "source": [
    "Рассмотрим подробнее функцию read_csv ([документация на сайте проекта](https://pandas.pydata.org/docs/reference/api/pandas.read_csv.html)):"
   ]
  },
  {
   "cell_type": "code",
   "execution_count": null,
   "metadata": {},
   "outputs": [],
   "source": [
    "pandas.read_csv(filepath_or_buffer,\n",
    "                sep=NoDefault.no_default,\n",
    "                delimiter=None,\n",
    "                header='infer',\n",
    "                names=NoDefault.no_default,\n",
    "                index_col=None,\n",
    "                usecols=None,\n",
    "                squeeze=None,\n",
    "                prefix=NoDefault.no_default,\n",
    "                mangle_dupe_cols=True,\n",
    "                dtype=None,\n",
    "                engine=None,\n",
    "                converters=None,\n",
    "                true_values=None,\n",
    "                false_values=None,\n",
    "                skipinitialspace=False,\n",
    "                skiprows=None,\n",
    "                skipfooter=0, nrows=None,\n",
    "                na_values=None,\n",
    "                keep_default_na=True,\n",
    "                na_filter=True,\n",
    "                verbose=False,\n",
    "                skip_blank_lines=True,\n",
    "                parse_dates=None,\n",
    "                infer_datetime_format=False,\n",
    "                keep_date_col=False,\n",
    "                date_parser=None,\n",
    "                dayfirst=False,\n",
    "                cache_dates=True,\n",
    "                iterator=False,\n",
    "                chunksize=None,\n",
    "                compression='infer',\n",
    "                thousands=None,\n",
    "                decimal='.',\n",
    "                lineterminator=None,\n",
    "                quotechar='\"',\n",
    "                quoting=0,\n",
    "                doublequote=True,\n",
    "                escapechar=None,\n",
    "                comment=None,\n",
    "                encoding=None,\n",
    "                encoding_errors='strict',\n",
    "                dialect=None,\n",
    "                error_bad_lines=None,\n",
    "                warn_bad_lines=None,\n",
    "                on_bad_lines=None,\n",
    "                delim_whitespace=False,\n",
    "                low_memory=True,\n",
    "                memory_map=False,\n",
    "                float_precision=None,\n",
    "                storage_options=None)"
   ]
  },
  {
   "cell_type": "markdown",
   "metadata": {},
   "source": [
    "### Параметры\n",
    "\n",
    "**filepath_or_buffer** - объект типа `str`, объект-путь (это мы обсудим позже) или объект-файл (то есть то, что возвращает функция `open`). Строка с именем и путём к файлу может быть любой, также можно использовать  URL. Эта URL должна включать http, ftp, s3, gs и файл. Строка на локальный файл имеет вид: `r'file://localhost/path/to/table.csv'`.\n",
    "\n",
    "**sep** - объект типа `str`, по умолчанию является `','`.\n",
    "Символ, который будет считаться разделителем между столбцами. \n",
    "\n",
    "**delimiter** - объект типа `str`, по умолчанию `None`\n",
    "То же самое, что `sep`.\n",
    "\n",
    "**header**  - объект типа `int`, `list` объектов типа `int`, или вообще `None`, по умолчанию `'infer'` (англ. \"делать заключение\").\n",
    "Номер ряда, который будет использован как имена столбцов, предыдущие ряды будут проигнорированы. По умолчанию функция \"сделает вывод об именах\": прочитает первую строку как имена столбцов, если не дать явным образом имена, а если дать, то именами будут считаться те, которые явно переданы в функцию.\n",
    "Если передать `header=0`, то переданные имена будут проигнорированы.\n",
    "Если передать сразу список целых чисел, то сразу несколько рядов пойдут в заголовки.\n",
    "\n",
    "**names**  - объект, подобны массиву (список и др.)\n",
    "Список имён столбцов. **Не должен содержать повторяющихся значений!**\n",
    "\n",
    "**index_col** - `int`, `str`, последовательность `int` или `str`, или `False`, по умолчанию `None`.\n",
    "Колонка или колонки, которые будут использованы как имена рядов датафрейма, задаются строками по именам или по номерам. \n",
    "\n",
    "**usecols** - `list`-подобный объект\n",
    "Подмножество колонок. Все элементы списка должны быть или числами (индексы колонок), или строками (имена колонок). \n",
    "\n",
    "**squeeze** - `bool`, по умолчанию `False`\n",
    "Если в файле одна колонка, вместо датафрейма результат будет серией `serie`. \n",
    "\n",
    "⌛ Устарело, начиная с версии 1.4.0: добавьте `.squeeze(\"columns\")` к вызову `read_csv`, чтобы сделать это.\n",
    "\n",
    "**prefix**  - `str`\n",
    "Префикс, который добавляется к номерам безымянных колонок, например, 'X' для X0, X1, …\n",
    "\n",
    "⌛ Устарело, начиная с версии 1.4.0: используйте list comprehension в отношении колонок датафрейма после вызова read_csv.\n",
    "\n",
    "**mangle_dupe_cols**  - `bool`, по умолчанию `True`\n",
    "Колонки-дубликаты обретут имена вида 'X', 'X.1', …'X.N' вместо 'X'…'X'. Если передать `False`, останется только последняя колонка с таким именем.\n",
    "\n",
    "**dtype** Type name or dict of column -> type\n",
    "\n",
    "Тип данных для колонок. Например,  `{'a': np.float64, 'b': np.int32, 'c': 'Int64'}`. \n",
    "\n",
    "**engine** {'c', 'python', 'pyarrow'}, optional\n",
    "Движок парсера, который нужно использовать. C и pyarrow быстрее, у python больше фич. Многопоточность сейчас поддерживается только pyarrow.\n",
    "\n",
    "Новое в версии 1.4.0: добавлен экспериментальный движок “pyarrow”, не все фичи для него поддерживаются.\n",
    "\n",
    "**converters** - `dict`\n",
    "Словарь функций для конвертирования значений в некоторых колонках. Ключи целые или имена колонок.\n",
    "\n",
    "**true_values** - `list`\n",
    "Значения, приравненные к `True`.\n",
    "\n",
    "**false_values**  -`list`, optional\n",
    "Значения, приравненные к `False`.\n",
    "\n",
    "**skipinitialspace** `bool`, по умолчанию False\n",
    "Убрать пробел после символа-разделителя\n",
    "\n",
    "**skiprows**  - `list`-подобный, `int` or функция\n",
    "Номера строк, которые нужно пропустить (нумерация с 0) или число строк (int), пропускаемых в начале файла.\n",
    "\n",
    "Если применяется функция, то она должна обрабатывать индексы рядов, возвращая `True`, если ряд нужно пропустить, и `False` в противном случае. Пример: `lambda x: x in [0, 2]`.\n",
    "\n",
    "**skipfooter** - `int`, по умолчанию 0\n",
    "Число строк, пропускаемых в конце файла (не поддерживается для engine='c').\n",
    "\n",
    "**nrows** - `int`, optional\n",
    "Скольк рядов читать. Полезно для чтения кусков больших файлов.\n",
    "\n",
    "**na_values** - scalar, `str`, `list`-подобный или `dict`\n",
    "Строки, которые считать `NA`/`NaN` (значение недоступно). Если передавать `dict`, можно задать специфические для колонок значения `NA`. По умолчанию будут читаться как `NaN`: `''`, `'#N/A'`, `'#N/A N/A'`, `'#NA'`, `'-1.#IND'`, `'-1.#QNAN'`, `'-NaN'`, `'-nan'`, `'1.#IND'`, `'1.#QNAN'`, `'<NA>'`, `'N/A'`, `'NA'`, `'NULL'`, `'NaN'`, `'n/a'`, `'nan'`, `'null'`.\n",
    "\n",
    "**keep_default_na** `bool`, по умолчанию `True`\n",
    "Включать ли значения `NaN` по умолчанию при чтении данных. В зависимости от того, что подано на `na_values`, поведение следющее:\n",
    "\n",
    "Если `keep_default_na` - `True`, а `na_values` прописаны, `na_values` добавляются к значения `NaN`  по умолчанию и будут применяться при чтении.\n",
    "\n",
    "Если `keep_default_na` - `True`, а `na_values` не прописаны, используются только знечения `NaN`по умолчанию.\n",
    "\n",
    "Если `keep_default_na` - `False`, а `na_values` прописаны, используются только знечения `NaN`, которые заданы вручную.\n",
    "\n",
    "Если `keep_default_na` - `False`, а `na_values` не прописаны, ничто не распознаётся как `NaN`.\n",
    "\n",
    "Если при этом в `na_filter` передать `False`, то `keep_default_na` и `na_values` игнорируются.\n",
    "\n",
    "`na_filter` - `bool`, по умолчанию `True`\n",
    "Детектировать маркеры недостающих значений (пустые строки и другие значения `na_values`). Если точно известо, что нет никаких `NA` в данных, передача `na_filter=False` может улучшить производительность для больших файлов.\n",
    "\n",
    "`verbose` - `bool`, по умолчанию `False`\n",
    "Покажет количество `NA`-значений в нечисловых колонках.\n",
    "\n",
    "`skip_blank_lines` - `bool`, по умолчанию `True`\n",
    "Если `True`, пустые строки просто выбрасываются, а не наполняются `NaN`-значениями.\n",
    "\n",
    "`parse_dates` - `bool` или `list` значений `int` или имён, или `list` из `list`-ов, или `dict`, по умолчанию `False`\n",
    "\n",
    "Поведение следующее:\n",
    "\n",
    "boolean. Если `True` - пытается парсить все колонки.\n",
    "\n",
    "`list` из `int` или имён. Например, если `[1, 2, 3]` - пытается парсить колонки 1, 2, 3 как отдельную дату каждую колонку отдельно.\n",
    "\n",
    "`list` из `list`-ов. Например, если `[[1, 3]]` - пытается объединить колонку 1 и 3 и парсить как дату их объединение.\n",
    "\n",
    "`dict`, например, `{'foo' : [1, 3]}` -> парсит колонки 1 и 3 и делает новую колонку с именем `foo`.\n",
    "\n",
    "`infer_datetime_format` - `bool`, по умолчанию `False`\n",
    "Если `True` и `parse_dates` включены, `pandas`  попытается сделать вывод о формате времени и даты, и если получится, переключится на быстрый метод парсинга. В некоторых случаях может улучшить время в 5-10 раз.\n",
    "\n",
    "`keep_date_col` - `bool`, по умолчанию `False`\n",
    "Если `True` и `parse_dates` требуют объединить какие-то колонки, этот параметр даёт возможность оставить оригинальные колонки.\n",
    "\n",
    "`date_parser` - функция\n",
    "Как конвертировать колонку строк в массив дат-времён. По умолчанию использует dateutil.parser.parser. Pandas попытается вызвать `date_parser` тремя разными способами, переходя к следующему, если возникло исключение: 1) передать один или больше массивов (как задано в `parse_dates`) как аргументы; 2) объединить внутри ряда строковые значения из колонок, заданных в `parse_dates` в единый массив  и передеть его; 3) вызвать `date_parser` для каждого ряда, подавая ему одну или несколько строк (в зависимости от того, что передано в `parse_dates`) как аргументы.\n",
    "\n",
    "`dayfirst` - `bool`, по умолчанию `False`\n",
    "Формат дат `DD/MM`, международный и европейский, в отличие от `MM/DD` американского.\n",
    "\n",
    "`cache_dates` - `bool`, по умолчанию `True`\n",
    "Если `True`, запоминает даты, которые уже сконвертировал. Может дать существенное ускорение в случае повторных значений.\n",
    "\n",
    "`thousands` - `str`\n",
    "Разделитель тысяч. Например, в США тысячи принято разделять запятой, в России - пробелом.\n",
    "\n",
    "`decimal` - `str`, по умолчанию `'.'`\n",
    "Симваол, который будет читаться как десятичная запятая (используйте `','` для европейских данных).\n",
    "\n",
    "`lineterminator` - `str` (длины 1)\n",
    "Разделитель строк. Только для парсера C.\n",
    "\n",
    "`quotechar` - `str` (длины 1)\n",
    "Символ, применяемый в качестве кавычки. \"Закавыченный\" кусок файла может содержать символы-разделители, которые проигнорируются.\n",
    "\n",
    "`quoting` - `int` or `csv.QUOTE_*` instance, default 0\n",
    "Control field quoting behavior per csv.QUOTE_* constants. Use one of QUOTE_MINIMAL (0), QUOTE_ALL (1), QUOTE_NONNUMERIC (2) or QUOTE_NONE (3).\n",
    "\n",
    "`doublequote` - `bool`, по умолчанию `True`\n",
    "Если `quotechar` задан и `quoting` не `QUOTE_NONE`, показывает, считать ли два последовательных `quotechar`-элемента внутри поля как один `quotechar`-элемент.\n",
    "\n",
    "`escapechar` - `str` (длины 1)\n",
    "[Символ для игнорирования других символов](https://stackoverflow.com/questions/13824840/escaped-quotes-in-pandas-read-csv).\n",
    "\n",
    "`comment` - `str`\n",
    "Индикатор строк, который читать не нужно. Один символ. Как и для пустых строк (as long as skip_blank_lines=True), полностью закомментированные строки игнорируются в параметре `header` но не в `skiprows`. Например, если `comment='#'`, чтение `#empty\\na,b,c\\n1,2,3` с `header=0` даст результат `'a,b,c'` в качестве ряда-заголовка.\n",
    "\n",
    "`encoding` - `str`\n",
    "Кодировка (ex. 'utf-8'). [Список стандартных кодировок](https://docs.python.org/3/library/codecs.html#standard-encodings).\n",
    "\n",
    "`encoding_errors` - `str`, по умолчанию `“strict”`\n",
    "Как обрабатывать ошибки. `“strict”` - выдаёт ошибку, `“ignore”` - игнорирует плохие данные и продолжает молча. [Список вариантов](https://docs.python.org/3/library/codecs.html#error-handlers).\n",
    "\n",
    "`dialect` - `str` или `csv.Dialect`\n",
    "Быстро задаёт `delimiter`, `doublequote`, `escapechar`, `skipinitialspace`, `quotechar` и `quoting`. Если они уже заданы, всё равно будут значения, заданные через `dialect`\n",
    "\n",
    "`error_bad_lines` `bool`, по умолчанию `None`\n",
    "Строки с лишними полями (например, строка в csv с лишними запятыми) по умолчанию выдаст ошибку, а датафрейм не даст. Если `False`, то \"плохие строки\" будут просто выброшены из датафрейма.\n",
    "\n",
    "⌛Устарело с версии 1.3.0: The on_bad_lines parameter should be used instead to specify behavior upon encountering a bad line instead.\n",
    "\n",
    "`warn_bad_lines` - `bool`, по умолчанию `None`\n",
    "Если `error_bad_lines` - `False`, а `warn_bad_lines` - `True`, выведется предупреждение для каждой \"плохой\" строки.\n",
    "\n",
    "⌛Устарело с версии  1.3.0: The on_bad_lines parameter should be used instead to specify behavior upon encountering a bad line instead.\n",
    "\n",
    "`on_bad_lines` - `{'error', 'warn', 'skip'}` или функция, по умолчанию 'error'\n",
    "Что делать с \"плохими\" строками. Значения следующие:\n",
    "\n",
    "'error', вызвать ошибку.\n",
    "\n",
    "'warn', вызвать предупреждение.\n",
    "\n",
    "'skip', просто проигноировать.\n",
    "\n",
    "Начиная с версии 1.3.0:\n",
    "\n",
    "Функция принимает `bad_line: list[str]`, возвращает `list[str]`\n",
    "Должна работать с одной плохой строкой, которая является списоком строк, полученных делением по `sep`. Если функция возвращает `None`, плохая строка игнорируется. Если вернёт список, в котором всё равном слишком много элементов, возникнет ParserWarning, лишние элементы будут выброшены.Работает с `engine=\"python\"`\n",
    "\n",
    "`delim_whitespace` - `bool`, по умолчанию `False`\n",
    "Считать ли пробелы (e.g. `' '` или `'    '`) разделителями. Эквивалентно `sep='\\s+'`. Если `True`, в `delimeter` ничего передавать не нужно.\n",
    "\n",
    "`low_memory` - `bool`, по умолчанию `True`\n",
    "Порежет файл на кусочки для меньшей памяти, требуемой при чтении, однако возможно смешение типов. Во избежание, установите `False` или задайте тип через `dtype`.\n",
    "\n",
    "`float_precision` - `str`\n",
    "Как движок C будет конвертировать дробные числа. Варианты - `None` или `'high'` для обычного конвертера, `'legacy'` для оригинального с низкой точностью lower precision pandas converter."
   ]
  },
  {
   "cell_type": "code",
   "execution_count": 31,
   "metadata": {},
   "outputs": [
    {
     "data": {
      "text/html": [
       "<div>\n",
       "<style scoped>\n",
       "    .dataframe tbody tr th:only-of-type {\n",
       "        vertical-align: middle;\n",
       "    }\n",
       "\n",
       "    .dataframe tbody tr th {\n",
       "        vertical-align: top;\n",
       "    }\n",
       "\n",
       "    .dataframe thead th {\n",
       "        text-align: right;\n",
       "    }\n",
       "</style>\n",
       "<table border=\"1\" class=\"dataframe\">\n",
       "  <thead>\n",
       "    <tr style=\"text-align: right;\">\n",
       "      <th></th>\n",
       "      <th>input</th>\n",
       "      <th>response</th>\n",
       "    </tr>\n",
       "  </thead>\n",
       "  <tbody>\n",
       "    <tr>\n",
       "      <th>0</th>\n",
       "      <td>1</td>\n",
       "      <td>2</td>\n",
       "    </tr>\n",
       "    <tr>\n",
       "      <th>1</th>\n",
       "      <td>3</td>\n",
       "      <td>4</td>\n",
       "    </tr>\n",
       "    <tr>\n",
       "      <th>2</th>\n",
       "      <td>5</td>\n",
       "      <td>5</td>\n",
       "    </tr>\n",
       "    <tr>\n",
       "      <th>3</th>\n",
       "      <td>7</td>\n",
       "      <td>8</td>\n",
       "    </tr>\n",
       "  </tbody>\n",
       "</table>\n",
       "</div>"
      ],
      "text/plain": [
       "   input  response\n",
       "0      1         2\n",
       "1      3         4\n",
       "2      5         5\n",
       "3      7         8"
      ]
     },
     "execution_count": 31,
     "metadata": {},
     "output_type": "execute_result"
    }
   ],
   "source": [
    "df = pd.read_csv('sample.csv')\n",
    "df"
   ]
  },
  {
   "cell_type": "code",
   "execution_count": 33,
   "metadata": {},
   "outputs": [
    {
     "data": {
      "text/plain": [
       "<AxesSubplot:xlabel='input', ylabel='response'>"
      ]
     },
     "execution_count": 33,
     "metadata": {},
     "output_type": "execute_result"
    },
    {
     "data": {
      "image/png": "[encoded data removed]",
      "text/plain": [
       "<Figure size 432x288 with 1 Axes>"
      ]
     },
     "metadata": {
      "needs_background": "light"
     },
     "output_type": "display_data"
    }
   ],
   "source": [
    "df.plot('input','response', ylabel='response')"
   ]
  },
  {
   "cell_type": "markdown",
   "metadata": {},
   "source": [
    "## Упражнения\n",
    "\n",
    "Построить графики для Chromo.txt, mutant.txt и wild_type.txt из лабораторной №2. Для Chromo.txt построить только отрезок от 4 до 7 минут."
   ]
  },
  {
   "cell_type": "code",
   "execution_count": 4,
   "metadata": {},
   "outputs": [
    {
     "data": {
      "image/png": "[encoded data removed]",
      "text/plain": [
       "<Figure size 432x288 with 1 Axes>"
      ]
     },
     "metadata": {
      "needs_background": "light"
     },
     "output_type": "display_data"
    }
   ],
   "source": [
    "import pandas as pd\n",
    "df = pd.read_csv('mutant.txt', sep='\\t')\n",
    "p = df.plot('Concentration, nM','Response', ylabel='Response')"
   ]
  },
  {
   "cell_type": "code",
   "execution_count": 6,
   "metadata": {},
   "outputs": [
    {
     "data": {
      "image/png": "[encoded data removed]",
      "text/plain": [
       "<Figure size 432x288 with 1 Axes>"
      ]
     },
     "metadata": {
      "needs_background": "light"
     },
     "output_type": "display_data"
    }
   ],
   "source": [
    "import pandas as pd\n",
    "df = pd.read_csv('wild_type.txt', sep='\\t')\n",
    "p = df.plot('Concentration, nM','Response', ylabel='Response')"
   ]
  },
  {
   "cell_type": "code",
   "execution_count": 17,
   "metadata": {},
   "outputs": [
    {
     "data": {
      "image/png": "[encoded data removed]",
      "text/plain": [
       "<Figure size 432x288 with 1 Axes>"
      ]
     },
     "metadata": {
      "needs_background": "light"
     },
     "output_type": "display_data"
    }
   ],
   "source": [
    "import pandas as pd\n",
    "df = pd.read_csv('Chromo.txt', sep='\\t')\n",
    "x = df[(4.0 <= df['Time (min)']) & (df['Time (min)'] <= 7.0)].plot('Time (min)','Value (mAU)', ylabel='Value (mAU)')"
   ]
  },
  {
   "cell_type": "code",
   "execution_count": null,
   "metadata": {},
   "outputs": [],
   "source": []
  }
 ],
 "metadata": {
  "kernelspec": {
   "display_name": "Python 3 (ipykernel)",
   "language": "python",
   "name": "python3"
  },
  "language_info": {
   "codemirror_mode": {
    "name": "ipython",
    "version": 3
   },
   "file_extension": ".py",
   "mimetype": "text/x-python",
   "name": "python",
   "nbconvert_exporter": "python",
   "pygments_lexer": "ipython3",
   "version": "3.9.7"
  }
 },
 "nbformat": 4,
 "nbformat_minor": 4
}
