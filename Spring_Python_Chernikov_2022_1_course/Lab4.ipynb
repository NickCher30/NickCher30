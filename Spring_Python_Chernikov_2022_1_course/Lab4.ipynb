{
 "cells": [
  {
   "cell_type": "markdown",
   "metadata": {},
   "source": [
    "# Несколько примеров использования Numpy (часть 2)\n",
    "\n",
    "## Транспонирование массивов\n",
    "\n",
    "Импортируем numpy:"
   ]
  },
  {
   "cell_type": "code",
   "execution_count": 1,
   "metadata": {},
   "outputs": [],
   "source": [
    "import numpy as np"
   ]
  },
  {
   "cell_type": "markdown",
   "metadata": {},
   "source": [
    "Создадим двумерный массив:"
   ]
  },
  {
   "cell_type": "code",
   "execution_count": 4,
   "metadata": {},
   "outputs": [],
   "source": [
    "a = np.array([\n",
    "    [1, 2, 3],\n",
    "    [4, 5, 6]])"
   ]
  },
  {
   "cell_type": "markdown",
   "metadata": {},
   "source": [
    "Метод `transpose` возвращает транспонированный массив:"
   ]
  },
  {
   "cell_type": "code",
   "execution_count": 8,
   "metadata": {},
   "outputs": [
    {
     "data": {
      "text/plain": [
       "array([[1, 4],\n",
       "       [2, 5],\n",
       "       [3, 6]])"
      ]
     },
     "execution_count": 8,
     "metadata": {},
     "output_type": "execute_result"
    }
   ],
   "source": [
    "a.transpose()"
   ]
  },
  {
   "cell_type": "markdown",
   "metadata": {},
   "source": [
    "`T` - это короткая запись метода `transpose`:"
   ]
  },
  {
   "cell_type": "code",
   "execution_count": 5,
   "metadata": {},
   "outputs": [
    {
     "data": {
      "text/plain": [
       "array([[1, 4],\n",
       "       [2, 5],\n",
       "       [3, 6]])"
      ]
     },
     "execution_count": 5,
     "metadata": {},
     "output_type": "execute_result"
    }
   ],
   "source": [
    "a.T"
   ]
  },
  {
   "cell_type": "markdown",
   "metadata": {},
   "source": [
    "## Сортировка массивов\n",
    "\n",
    "Сортировка каждой строки массива:"
   ]
  },
  {
   "cell_type": "code",
   "execution_count": 9,
   "metadata": {},
   "outputs": [
    {
     "data": {
      "text/plain": [
       "array([[1, 4, 7],\n",
       "       [5, 6, 8],\n",
       "       [1, 2, 3]])"
      ]
     },
     "execution_count": 9,
     "metadata": {},
     "output_type": "execute_result"
    }
   ],
   "source": [
    "data = np.array([\n",
    "    [7, 1, 4],\n",
    "    [8, 6, 5],\n",
    "    [1, 2, 3]\n",
    "])\n",
    "np.sort(data)"
   ]
  },
  {
   "cell_type": "markdown",
   "metadata": {},
   "source": [
    "Сортировка всего массива без сохранения его формы:"
   ]
  },
  {
   "cell_type": "code",
   "execution_count": 10,
   "metadata": {},
   "outputs": [
    {
     "data": {
      "text/plain": [
       "array([1, 1, 2, 3, 4, 5, 6, 7, 8])"
      ]
     },
     "execution_count": 10,
     "metadata": {},
     "output_type": "execute_result"
    }
   ],
   "source": [
    "np.sort(data, axis=None)"
   ]
  },
  {
   "cell_type": "markdown",
   "metadata": {},
   "source": [
    "Сортировка каждого столбца массива:"
   ]
  },
  {
   "cell_type": "code",
   "execution_count": 11,
   "metadata": {},
   "outputs": [
    {
     "data": {
      "text/plain": [
       "array([[1, 1, 3],\n",
       "       [7, 2, 4],\n",
       "       [8, 6, 5]])"
      ]
     },
     "execution_count": 11,
     "metadata": {},
     "output_type": "execute_result"
    }
   ],
   "source": [
    "np.sort(data, axis=0)"
   ]
  },
  {
   "cell_type": "markdown",
   "metadata": {},
   "source": [
    "## Объединение массивов\n",
    "\n",
    "Объединять массивы можно с помощью функции `concatenate`(\"сцепить\"), а также с помощью более удобных для чтения функций `hstack`, `vstack` и `dstack` (для трёхмерных массивов)."
   ]
  },
  {
   "cell_type": "code",
   "execution_count": 13,
   "metadata": {},
   "outputs": [
    {
     "data": {
      "text/plain": [
       "array([[4, 8, 3, 5],\n",
       "       [6, 1, 7, 2]])"
      ]
     },
     "execution_count": 13,
     "metadata": {},
     "output_type": "execute_result"
    }
   ],
   "source": [
    "a = np.array([\n",
    "     [4, 8],\n",
    "     [6, 1]\n",
    " ])\n",
    "b = np.array([\n",
    "     [3, 5],\n",
    "     [7, 2],\n",
    " ])\n",
    "\n",
    "np.hstack((a, b))"
   ]
  },
  {
   "cell_type": "code",
   "execution_count": 15,
   "metadata": {},
   "outputs": [
    {
     "data": {
      "text/plain": [
       "array([[3, 5],\n",
       "       [7, 2],\n",
       "       [4, 8],\n",
       "       [6, 1]])"
      ]
     },
     "execution_count": 15,
     "metadata": {},
     "output_type": "execute_result"
    }
   ],
   "source": [
    "np.vstack((b, a))"
   ]
  },
  {
   "cell_type": "markdown",
   "metadata": {},
   "source": [
    "Обратите внимание на две пары скобок.\n",
    "\n",
    "Функция `concatenate` по умолчанию работает с осью 0 (в случае двумерных массивов объединяет строки исходных массивов, в случае трёхмерных - объединяет \"слои\"-двумерные массивы исходных массивов)"
   ]
  },
  {
   "cell_type": "code",
   "execution_count": 17,
   "metadata": {},
   "outputs": [
    {
     "data": {
      "text/plain": [
       "array([[4, 8],\n",
       "       [6, 1],\n",
       "       [3, 5],\n",
       "       [7, 2]])"
      ]
     },
     "execution_count": 17,
     "metadata": {},
     "output_type": "execute_result"
    }
   ],
   "source": [
    "np.concatenate((a, b))"
   ]
  },
  {
   "cell_type": "code",
   "execution_count": 19,
   "metadata": {},
   "outputs": [
    {
     "data": {
      "text/plain": [
       "array([[[1, 1],\n",
       "        [1, 1]],\n",
       "\n",
       "       [[2, 2],\n",
       "        [2, 2]],\n",
       "\n",
       "       [[3, 3],\n",
       "        [3, 3]],\n",
       "\n",
       "       [[4, 4],\n",
       "        [4, 4]]])"
      ]
     },
     "execution_count": 19,
     "metadata": {},
     "output_type": "execute_result"
    }
   ],
   "source": [
    "a_3d = np.array([\n",
    "    [[1, 1],\n",
    "     [1, 1]],\n",
    "    [[2, 2],\n",
    "     [2, 2]]\n",
    "])\n",
    "\n",
    "b_3d = np.array([\n",
    "    [[3, 3],\n",
    "     [3, 3]],\n",
    "    [[4, 4],\n",
    "     [4, 4]]\n",
    "])\n",
    "np.concatenate((a_3d, b_3d))"
   ]
  },
  {
   "cell_type": "markdown",
   "metadata": {},
   "source": [
    "`axis=None` сделает массивы одномерными и объединит:"
   ]
  },
  {
   "cell_type": "code",
   "execution_count": 20,
   "metadata": {},
   "outputs": [
    {
     "data": {
      "text/plain": [
       "array([4, 8, 6, 1, 3, 5, 7, 2])"
      ]
     },
     "execution_count": 20,
     "metadata": {},
     "output_type": "execute_result"
    }
   ],
   "source": [
    "np.concatenate((a, b), axis=None)"
   ]
  },
  {
   "cell_type": "markdown",
   "metadata": {},
   "source": [
    "## Упражение 1\n",
    "\n",
    "Создайте квадратный массив (размером больше 2), отсортируйте его столбцы, получите транспонированный массив (от отсортированного), объедините эти массивы вертикально, горизонтально и без оси (выведите на экран результат для каждого действия)."
   ]
  },
  {
   "cell_type": "code",
   "execution_count": 8,
   "metadata": {},
   "outputs": [
    {
     "name": "stdout",
     "output_type": "stream",
     "text": [
      "[[5 2 9]\n",
      " [4 3 7]\n",
      " [0 2 1]]\n",
      "\n",
      "[[0 2 1]\n",
      " [4 2 7]\n",
      " [5 3 9]]\n",
      "\n",
      "[[5 2 9]\n",
      " [4 3 7]\n",
      " [0 2 1]\n",
      " [0 2 1]\n",
      " [4 2 7]\n",
      " [5 3 9]]\n",
      "\n",
      "[[5 2 9 0 2 1]\n",
      " [4 3 7 4 2 7]\n",
      " [0 2 1 5 3 9]]\n",
      "\n",
      "[5 2 9 4 3 7 0 2 1 0 2 1 4 2 7 5 3 9]\n",
      "\n"
     ]
    }
   ],
   "source": [
    "import numpy as np\n",
    "\n",
    "data = np.array([\n",
    "    [5, 2, 9],\n",
    "    [4, 3, 7],\n",
    "    [0, 2, 1]\n",
    "])\n",
    "\n",
    "print(data)\n",
    "print()\n",
    "\n",
    "sorted_data = np.sort(data, axis=0)\n",
    "\n",
    "print(sorted_data)\n",
    "print()\n",
    "\n",
    "vertical = np.vstack((data, sorted_data))\n",
    "\n",
    "print(vertical)\n",
    "print()\n",
    "\n",
    "horizontal = np.hstack((data, sorted_data))\n",
    "\n",
    "print(horizontal)\n",
    "print()\n",
    "\n",
    "without_axis = np.concatenate((data, sorted_data), axis=None)\n",
    "\n",
    "print(without_axis)\n",
    "print()"
   ]
  },
  {
   "cell_type": "markdown",
   "metadata": {},
   "source": [
    "# Оптимизация хранения данных\n",
    "## Числовые данные\n",
    "\n",
    "По умолчанию, целые и дробные числа в Numpy занимают 64 бита. Если чисел много, они потребуют большое количество памяти, а в некоторых случаях можно сократить это количество, используя меньше бит на одно число."
   ]
  },
  {
   "cell_type": "code",
   "execution_count": 27,
   "metadata": {},
   "outputs": [
    {
     "data": {
      "text/plain": [
       "array([   2,   16,  127, -128, -128,  127], dtype=int8)"
      ]
     },
     "execution_count": 27,
     "metadata": {},
     "output_type": "execute_result"
    }
   ],
   "source": [
    "a = np.array([2, 2**4, 2**7 - 1, 2**7, -2**7, -2**7 - 1], dtype=np.int8)\n",
    "a"
   ]
  },
  {
   "cell_type": "markdown",
   "metadata": {},
   "source": [
    "В этом примере использовался целый знаковый тип, занимающий 8 бит. Как мы видим, он может хранить числа от -128 до 127, остальные числа он хранит неправильно."
   ]
  },
  {
   "cell_type": "code",
   "execution_count": 29,
   "metadata": {},
   "outputs": [
    {
     "data": {
      "text/plain": [
       "array([  2,  16, 127, 128, 128, 127, 255,   0], dtype=uint8)"
      ]
     },
     "execution_count": 29,
     "metadata": {},
     "output_type": "execute_result"
    }
   ],
   "source": [
    "a = np.array([2, 2**4, 2**7 - 1, 2**7, -2**7, -2**7 - 1, 2**8 -1, 2**8], dtype=np.uint8)\n",
    "a"
   ]
  },
  {
   "cell_type": "markdown",
   "metadata": {},
   "source": [
    "Беззнаковый целый тип того же размера позволяет хранить числа от 0 до 255.\n",
    "\n",
    "Беззнаковый тип размера *n* позволяет хранить числа от 0 до `2**n - 1`, а знаковый того же размера - от `-2**(n-1)` до `2**(n-1) - 1`."
   ]
  },
  {
   "cell_type": "markdown",
   "metadata": {},
   "source": [
    "## Упражнение 2\n",
    "\n",
    "Напишите функцию, которая превращает список целых чисел (тип `list`) в `np.array`, занимающий наименьшую память, если известно, что данные, находящиеся в исходном списке - это:\n",
    "- количество людей в каждом городе России;\n",
    "- температура в градусах Цельсия, измеренная в разных хранилищах лаборатории (инкубатор для клеток млекопитающих, шкаф, холодильник, морозилка, кельвинатор -80℃)\n",
    "- оценки 1 курса ФБМФ за письменный экзамен по матанализу."
   ]
  },
  {
   "cell_type": "code",
   "execution_count": 11,
   "metadata": {},
   "outputs": [
    {
     "name": "stdout",
     "output_type": "stream",
     "text": [
      "[ 123456   12345 1234567]\n",
      "[ 10 -80 100  12  36]\n",
      "[ 0 12 22 30]\n"
     ]
    }
   ],
   "source": [
    "def np_citizens(citizens):\n",
    "    return np.array(citizens, dtype=np.uint32)\n",
    "\n",
    "def np_temperatures(temperatures):\n",
    "    return np.array(temperatures, dtype=np.int8)\n",
    "\n",
    "def np_marks(marks):\n",
    "    return np.array(marks, dtype=np.uint8)\n",
    "\n",
    "print(np_citizens([123456, 12345, 1234567]))\n",
    "print(np_temperatures([10, -80, 100, 12, 36]))\n",
    "print(np_marks([0, 12, 22, 30]))"
   ]
  },
  {
   "cell_type": "markdown",
   "metadata": {},
   "source": [
    "## Структурированные массивы\n",
    "\n",
    "В NumPy есть специальный вид массива, называемый массивом записей или структурированным массивом, в котором можно указать тип и, по желанию, имя для каждого столбца. Это делает сортировку и фильтрацию еще более мощной, и по ощущениям может напоминать работу с данными в Excel или других таблицах."
   ]
  },
  {
   "cell_type": "code",
   "execution_count": 30,
   "metadata": {},
   "outputs": [
    {
     "data": {
      "text/plain": [
       "('joe', 32, 6)"
      ]
     },
     "execution_count": 30,
     "metadata": {},
     "output_type": "execute_result"
    }
   ],
   "source": [
    "data = np.array([\n",
    "    (\"joe\", 32, 6),\n",
    "    (\"mary\", 15, 20),\n",
    "    (\"felipe\", 80, 100),\n",
    "    (\"beyonce\", 38, 9001),\n",
    "], dtype=[(\"name\", str, 10), (\"age\", int), (\"power\", int)])\n",
    "\n",
    "data[0]"
   ]
  },
  {
   "cell_type": "code",
   "execution_count": 31,
   "metadata": {},
   "outputs": [
    {
     "data": {
      "text/plain": [
       "array(['joe', 'mary', 'felipe', 'beyonce'], dtype='<U10')"
      ]
     },
     "execution_count": 31,
     "metadata": {},
     "output_type": "execute_result"
    }
   ],
   "source": [
    "data[\"name\"]"
   ]
  },
  {
   "cell_type": "code",
   "execution_count": 32,
   "metadata": {},
   "outputs": [
    {
     "data": {
      "text/plain": [
       "array(['beyonce'], dtype='<U10')"
      ]
     },
     "execution_count": 32,
     "metadata": {},
     "output_type": "execute_result"
    }
   ],
   "source": [
    "data[data[\"power\"] > 9000][\"name\"]"
   ]
  },
  {
   "cell_type": "markdown",
   "metadata": {},
   "source": [
    "## Упражнение 3\n",
    "\n",
    "Прочитайте данные из файла `Cell_culture.txt` о количестве суспензионной культуры, заказанной сотрудниками и студентами лаборатории на определённые даты, в структурированный массив. Выведите на экран:\n",
    "- суммарное количество культуры, заказанной на 5 апреля;\n",
    "- имена студентов и сотрудников, которые заказали культуру на 9 апреля"
   ]
  },
  {
   "cell_type": "code",
   "execution_count": 20,
   "metadata": {},
   "outputs": [
    {
     "name": "stdout",
     "output_type": "stream",
     "text": [
      "[('5-Apr', 'Liza',   3, 'Transfecti') ('5-Apr', 'Dasha',  40, 'Virus')\n",
      " ('5-Apr', 'Dima', 300, 'Biomass') ('9-Apr', 'Dasha', 300, 'Biomass')\n",
      " ('9-Apr', 'Liza',  40, 'Virus') ('8-Apr', 'Dasha',   1, 'Titer')]\n",
      "343\n",
      "['Dasha' 'Liza']\n"
     ]
    }
   ],
   "source": [
    "with open('Cell_culture.txt', 'r') as f:\n",
    "    f.readline()\n",
    "    \n",
    "    data = [line.split() for line in f]\n",
    "    \n",
    "for i in range(len(data)):\n",
    "    data[i][2] = int(data[i][2])\n",
    "\n",
    "np_data = np.array(list(map(tuple, data)), \\\n",
    "    dtype=[(\"Date\", str, 10), (\"Name\", str, 10), \\\n",
    "           (\"Volume\", int), (\"Comment\", str, 10)])\n",
    "\n",
    "print(np_data)\n",
    "    \n",
    "total = np.sum(np_data[np_data[\"Date\"] == \"5-Apr\"][\"Volume\"])    \n",
    "print(total)\n",
    "\n",
    "names = np_data[np_data[\"Date\"] == \"9-Apr\"][\"Name\"]\n",
    "print(names)"
   ]
  },
  {
   "cell_type": "code",
   "execution_count": null,
   "metadata": {},
   "outputs": [],
   "source": []
  }
 ],
 "metadata": {
  "kernelspec": {
   "display_name": "Python 3 (ipykernel)",
   "language": "python",
   "name": "python3"
  },
  "language_info": {
   "codemirror_mode": {
    "name": "ipython",
    "version": 3
   },
   "file_extension": ".py",
   "mimetype": "text/x-python",
   "name": "python",
   "nbconvert_exporter": "python",
   "pygments_lexer": "ipython3",
   "version": "3.9.7"
  }
 },
 "nbformat": 4,
 "nbformat_minor": 4
}
